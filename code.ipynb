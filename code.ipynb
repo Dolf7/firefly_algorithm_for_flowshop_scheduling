{
 "cells": [
  {
   "cell_type": "code",
   "execution_count": 29,
   "metadata": {},
   "outputs": [],
   "source": [
    "import pandas as pd\n",
    "import numpy as np\n",
    "import random\n",
    "import math\n",
    "from itertools import permutations"
   ]
  },
  {
   "cell_type": "code",
   "execution_count": 30,
   "metadata": {},
   "outputs": [],
   "source": [
    "# COUNT Completion Time of sequence of order in flowshop schedule\n",
    "def count_completion_time(processing_times):\n",
    "    process_accumlutaion = np.zeros(processing_times.shape)\n",
    "    accumulation_time = 0\n",
    "    for i in range(len(processing_times[0])):\n",
    "        accumulation_time += processing_times[0][i]\n",
    "        process_accumlutaion[0][i] = accumulation_time\n",
    "\n",
    "    for i in range(1, len(processing_times)):\n",
    "        accumulation_time = process_accumlutaion[i-1][0]\n",
    "        for j in range(len(processing_times[0])):\n",
    "            if(j == 0):\n",
    "                accumulation_time += processing_times[i][j]\n",
    "            else:\n",
    "                if(process_accumlutaion[i-1][j] < process_accumlutaion[i][j-1]):\n",
    "                    accumulation_time += processing_times[i][j]\n",
    "                else:\n",
    "                    accumulation_time = process_accumlutaion[i-1][j]\n",
    "                    accumulation_time += processing_times[i][j]\n",
    "            process_accumlutaion[i][j] = accumulation_time\n",
    "    return accumulation_time"
   ]
  },
  {
   "cell_type": "code",
   "execution_count": 31,
   "metadata": {},
   "outputs": [],
   "source": [
    "def generate_random_sequence():\n",
    "  \"\"\"Generates a random sequence of numbers from 1 to 6.\"\"\"\n",
    "  sequence = random.sample(range(1, 7), 6)  # Sample 6 unique numbers from range 1 to 6\n",
    "  return ''.join(map(str, sequence))  # Convert sequence to string with '-' separator\n"
   ]
  },
  {
   "cell_type": "code",
   "execution_count": 60,
   "metadata": {},
   "outputs": [],
   "source": [
    "def sequence_to_string(sequence):\n",
    "  \"\"\"Converts a sequence of numbers to a string.\n",
    "  Args:\n",
    "      sequence: A tuple of integers representing the sequence.\n",
    "\n",
    "  Returns:\n",
    "      A string representation of the sequence.\n",
    "  \"\"\"\n",
    "  return ''.join(map(str, sequence))"
   ]
  },
  {
   "cell_type": "code",
   "execution_count": 65,
   "metadata": {},
   "outputs": [
    {
     "name": "stdout",
     "output_type": "stream",
     "text": [
      "<class 'range'>\n"
     ]
    }
   ],
   "source": [
    "\n",
    "def generate_all_possibilites(data):\n",
    "    numbers = range(1, 7)  # Create a sequence from 1 to 6\n",
    "\n",
    "    # Use permutations to generate all possible orderings\n",
    "    all_sequences = list(permutations(numbers))\n",
    "\n",
    "    # Convert to List of String\n",
    "    string_sequences = [sequence_to_string(seq) for seq in all_sequences]\n",
    "    for i in range(len(string_sequences)):\n",
    "        seq_list = np.zeros(data.shape)\n",
    "        for j in range(len(seq)):\n",
    "            seq_list[i] = data[int(seq[i])-1]\n",
    "        sol.update({seq: count_completion_time(seq_list)})\n",
    "    return sol\n",
    "\n"
   ]
  },
  {
   "cell_type": "code",
   "execution_count": 66,
   "metadata": {},
   "outputs": [],
   "source": [
    "# Generate Random Solution of amount_of_solution in return of dictionary with data\n",
    "# {\"sequence\" : \"compleiton_time\"}\n",
    "# ...\n",
    "def generate_random_solution(data, amount_of_solution:int):\n",
    "    sol = dict()\n",
    "    for x in range(amount_of_solution):\n",
    "        seq = generate_random_sequence()\n",
    "        seq_list = np.zeros(data.shape)\n",
    "        for i in range(len(seq)):\n",
    "            seq_list[i] = data[int(seq[i])-1]\n",
    "        sol.update({seq: count_completion_time(seq_list)})\n",
    "    return sol\n"
   ]
  },
  {
   "cell_type": "code",
   "execution_count": 33,
   "metadata": {},
   "outputs": [],
   "source": [
    "def min_max_normalization(arr):\n",
    "    min_val = np.min(arr) -1 # (np.min(arr)  * 1/100)\n",
    "    max_val = np.max(arr)\n",
    "    return (arr - min_val) / (max_val - min_val)"
   ]
  },
  {
   "cell_type": "code",
   "execution_count": 34,
   "metadata": {},
   "outputs": [],
   "source": [
    "# Z-Score Normalization \n",
    "def zscore_normalization(arr):\n",
    "    mean_val = np.mean(arr)\n",
    "    std_dev = np.std(arr)\n",
    "    return (arr - mean_val) / std_dev\n"
   ]
  },
  {
   "cell_type": "code",
   "execution_count": 35,
   "metadata": {},
   "outputs": [],
   "source": [
    "def find_up_low_bound(arr):\n",
    "    max_val = np.max(arr)\n",
    "    min_val = np.min(arr)\n",
    "    up_bound = math.ceil(max_val)\n",
    "    low_bound = math.floor(min_val)\n",
    "    return low_bound, up_bound"
   ]
  },
  {
   "cell_type": "code",
   "execution_count": 36,
   "metadata": {},
   "outputs": [],
   "source": [
    "def sort_by_index(data):\n",
    "  \"\"\"Sorts a list and returns the corresponding sorted index sequence.\n",
    "\n",
    "  Args:\n",
    "      data: A list of sortable elements.\n",
    "\n",
    "  Returns:\n",
    "      A list of indices representing the sorted order of the original list.\n",
    "  \"\"\"\n",
    "  return sorted(range(len(data)), key=lambda i: data[i])\n"
   ]
  },
  {
   "cell_type": "markdown",
   "metadata": {},
   "source": [
    "### RUN"
   ]
  },
  {
   "cell_type": "code",
   "execution_count": 67,
   "metadata": {},
   "outputs": [],
   "source": [
    "#LOAD DATA\n",
    "data = pd.read_csv(\"data.csv\")\n",
    "data = data.values\n",
    "data = data[:, 1:]\n"
   ]
  },
  {
   "cell_type": "code",
   "execution_count": 68,
   "metadata": {},
   "outputs": [],
   "source": [
    "# INIT THE PARAMETERS\n",
    "population_size = 10\n",
    "iteration_ = 10\n",
    "gamma = 0.01\n",
    "alpha = 0.1\n",
    "beta = 0.2\n",
    "delta = 0.97"
   ]
  },
  {
   "cell_type": "code",
   "execution_count": 69,
   "metadata": {},
   "outputs": [
    {
     "ename": "IndexError",
     "evalue": "string index out of range",
     "output_type": "error",
     "traceback": [
      "\u001b[1;31m---------------------------------------------------------------------------\u001b[0m",
      "\u001b[1;31mIndexError\u001b[0m                                Traceback (most recent call last)",
      "Cell \u001b[1;32mIn[69], line 2\u001b[0m\n\u001b[0;32m      1\u001b[0m \u001b[38;5;66;03m# Generate Random Solution based on population_size\u001b[39;00m\n\u001b[1;32m----> 2\u001b[0m solution_ \u001b[38;5;241m=\u001b[39m \u001b[43mgenerate_random_solution\u001b[49m\u001b[43m(\u001b[49m\u001b[43mdata\u001b[49m\u001b[38;5;241;43m=\u001b[39;49m\u001b[43mdata\u001b[49m\u001b[43m,\u001b[49m\u001b[43m \u001b[49m\u001b[43mamount_of_solution\u001b[49m\u001b[38;5;241;43m=\u001b[39;49m\u001b[43mpopulation_size\u001b[49m\u001b[43m)\u001b[49m\n",
      "Cell \u001b[1;32mIn[66], line 10\u001b[0m, in \u001b[0;36mgenerate_random_solution\u001b[1;34m(data, amount_of_solution)\u001b[0m\n\u001b[0;32m      8\u001b[0m     seq_list \u001b[38;5;241m=\u001b[39m np\u001b[38;5;241m.\u001b[39mzeros(data\u001b[38;5;241m.\u001b[39mshape)\n\u001b[0;32m      9\u001b[0m     \u001b[38;5;28;01mfor\u001b[39;00m j \u001b[38;5;129;01min\u001b[39;00m \u001b[38;5;28mrange\u001b[39m(\u001b[38;5;28mlen\u001b[39m(seq)):\n\u001b[1;32m---> 10\u001b[0m         seq_list[i] \u001b[38;5;241m=\u001b[39m data[\u001b[38;5;28mint\u001b[39m(\u001b[43mseq\u001b[49m\u001b[43m[\u001b[49m\u001b[43mi\u001b[49m\u001b[43m]\u001b[49m)\u001b[38;5;241m-\u001b[39m\u001b[38;5;241m1\u001b[39m]\n\u001b[0;32m     11\u001b[0m     sol\u001b[38;5;241m.\u001b[39mupdate({seq: count_completion_time(seq_list)})\n\u001b[0;32m     12\u001b[0m \u001b[38;5;28;01mreturn\u001b[39;00m sol\n",
      "\u001b[1;31mIndexError\u001b[0m: string index out of range"
     ]
    }
   ],
   "source": [
    "# Generate Random Solution based on population_size\n",
    "solution_ = generate_random_solution(data=data, amount_of_solution=population_size)"
   ]
  },
  {
   "cell_type": "code",
   "execution_count": 40,
   "metadata": {},
   "outputs": [
    {
     "data": {
      "text/plain": [
       "{'416532': 291.0,\n",
       " '213465': 290.0,\n",
       " '625134': 276.0,\n",
       " '136245': 286.0,\n",
       " '654213': 281.0,\n",
       " '124356': 273.0,\n",
       " '543612': 290.0,\n",
       " '634152': 286.0,\n",
       " '124536': 273.0,\n",
       " '163425': 286.0}"
      ]
     },
     "execution_count": 40,
     "metadata": {},
     "output_type": "execute_result"
    }
   ],
   "source": [
    "solution_"
   ]
  },
  {
   "cell_type": "code",
   "execution_count": 41,
   "metadata": {},
   "outputs": [],
   "source": [
    "solution_keys = list(solution_.keys())\n",
    "solution_list = list(solution_.values())\n",
    "solution_list = np.array(solution_list)"
   ]
  },
  {
   "cell_type": "code",
   "execution_count": 42,
   "metadata": {},
   "outputs": [
    {
     "data": {
      "text/plain": [
       "['416532',\n",
       " '213465',\n",
       " '625134',\n",
       " '136245',\n",
       " '654213',\n",
       " '124356',\n",
       " '543612',\n",
       " '634152',\n",
       " '124536',\n",
       " '163425']"
      ]
     },
     "execution_count": 42,
     "metadata": {},
     "output_type": "execute_result"
    }
   ],
   "source": [
    "\n",
    "solution_keys"
   ]
  },
  {
   "cell_type": "code",
   "execution_count": 43,
   "metadata": {},
   "outputs": [],
   "source": [
    "normalize_solution = zscore_normalization(solution_list)"
   ]
  },
  {
   "cell_type": "code",
   "execution_count": 44,
   "metadata": {},
   "outputs": [
    {
     "data": {
      "text/plain": [
       "array([ 1.17376207,  1.02327975, -1.08347268,  0.42135049, -0.3310611 ,\n",
       "       -1.53491963,  1.02327975,  0.42135049, -1.53491963,  0.42135049])"
      ]
     },
     "execution_count": 44,
     "metadata": {},
     "output_type": "execute_result"
    }
   ],
   "source": [
    "normalize_solution"
   ]
  },
  {
   "cell_type": "code",
   "execution_count": 45,
   "metadata": {},
   "outputs": [],
   "source": [
    "low_bound, up_bound  = find_up_low_bound(normalize_solution)"
   ]
  },
  {
   "cell_type": "code",
   "execution_count": 46,
   "metadata": {},
   "outputs": [],
   "source": [
    "# CREATE OBJECT AND RUN ALGORITHM\n",
    "from firefly import firefly_algo"
   ]
  },
  {
   "cell_type": "code",
   "execution_count": 47,
   "metadata": {},
   "outputs": [],
   "source": [
    "fa = firefly_algo(data=normalize_solution, population=population_size, max_iter=iteration_, low_bound=low_bound, up_bound=up_bound, gamma=gamma, alpha=alpha, beta=beta, delta=delta)\n",
    "fa.run()"
   ]
  },
  {
   "cell_type": "code",
   "execution_count": 48,
   "metadata": {},
   "outputs": [
    {
     "name": "stdout",
     "output_type": "stream",
     "text": [
      "1.174\n",
      "1.023\n",
      "-21.616\n",
      "0.421\n",
      "-0.331\n",
      "-22.344\n",
      "1.023\n",
      "0.421\n",
      "-20.424\n",
      "0.421\n"
     ]
    }
   ],
   "source": [
    "fa.print_result()"
   ]
  },
  {
   "cell_type": "code",
   "execution_count": 49,
   "metadata": {},
   "outputs": [],
   "source": [
    "sorted_indices = sort_by_index(normalize_solution)"
   ]
  },
  {
   "cell_type": "code",
   "execution_count": 50,
   "metadata": {},
   "outputs": [],
   "source": [
    "res = dict()\n",
    "for i in sorted_indices:\n",
    "    res.update({solution_keys[i]: fa.data[i]})"
   ]
  },
  {
   "cell_type": "code",
   "execution_count": 51,
   "metadata": {},
   "outputs": [
    {
     "data": {
      "text/plain": [
       "{'124356': -22.34405568707147,\n",
       " '625134': -21.61627191589022,\n",
       " '124536': -20.42379437050973,\n",
       " '654213': -0.3310610959858636,\n",
       " '136245': 0.4213504858001939,\n",
       " '634152': 0.4213504858001939,\n",
       " '163425': 0.4213504858001939,\n",
       " '213465': 1.02327975122904,\n",
       " '543612': 1.02327975122904,\n",
       " '416532': 1.1737620675862515}"
      ]
     },
     "execution_count": 51,
     "metadata": {},
     "output_type": "execute_result"
    }
   ],
   "source": [
    "res"
   ]
  },
  {
   "cell_type": "code",
   "execution_count": null,
   "metadata": {},
   "outputs": [],
   "source": []
  }
 ],
 "metadata": {
  "kernelspec": {
   "display_name": "Python 3",
   "language": "python",
   "name": "python3"
  },
  "language_info": {
   "codemirror_mode": {
    "name": "ipython",
    "version": 3
   },
   "file_extension": ".py",
   "mimetype": "text/x-python",
   "name": "python",
   "nbconvert_exporter": "python",
   "pygments_lexer": "ipython3",
   "version": "3.9.13"
  }
 },
 "nbformat": 4,
 "nbformat_minor": 2
}
