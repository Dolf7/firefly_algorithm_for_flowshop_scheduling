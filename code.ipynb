{
 "cells": [
  {
   "cell_type": "code",
   "execution_count": 24,
   "metadata": {},
   "outputs": [],
   "source": [
    "import pandas as pd\n",
    "import numpy as np\n",
    "import random\n",
    "import math"
   ]
  },
  {
   "cell_type": "code",
   "execution_count": 25,
   "metadata": {},
   "outputs": [],
   "source": [
    "# COUNT Completion Time of sequence of order in flowshop schedule\n",
    "def count_completion_time(processing_times):\n",
    "    process_accumlutaion = np.zeros(processing_times.shape)\n",
    "    accumulation_time = 0\n",
    "    for i in range(len(processing_times[0])):\n",
    "        accumulation_time += processing_times[0][i]\n",
    "        process_accumlutaion[0][i] = accumulation_time\n",
    "\n",
    "    for i in range(1, len(processing_times)):\n",
    "        accumulation_time = process_accumlutaion[i-1][0]\n",
    "        for j in range(len(processing_times[0])):\n",
    "            if(j == 0):\n",
    "                accumulation_time += processing_times[i][j]\n",
    "            else:\n",
    "                if(process_accumlutaion[i-1][j] < process_accumlutaion[i][j-1]):\n",
    "                    accumulation_time += processing_times[i][j]\n",
    "                else:\n",
    "                    accumulation_time = process_accumlutaion[i-1][j]\n",
    "                    accumulation_time += processing_times[i][j]\n",
    "            process_accumlutaion[i][j] = accumulation_time\n",
    "    return accumulation_time"
   ]
  },
  {
   "cell_type": "code",
   "execution_count": 26,
   "metadata": {},
   "outputs": [],
   "source": [
    "def generate_random_sequence():\n",
    "  \"\"\"Generates a random sequence of numbers from 1 to 6.\"\"\"\n",
    "  sequence = random.sample(range(1, 7), 6)  # Sample 6 unique numbers from range 1 to 6\n",
    "  return ''.join(map(str, sequence))  # Convert sequence to string with '-' separator\n"
   ]
  },
  {
   "cell_type": "code",
   "execution_count": 27,
   "metadata": {},
   "outputs": [],
   "source": [
    "# Generate Random Solution of amount_of_solution in return of dictionary with data\n",
    "# {\"sequence\" : \"compleiton_time\"}\n",
    "# ...\n",
    "def generate_random_solution(data, amount_of_solution:int):\n",
    "    sol = dict()\n",
    "    for i in range(amount_of_solution):\n",
    "        seq = generate_random_sequence()\n",
    "        seq_list = np.zeros(data.shape)\n",
    "        for i in range(len(seq)):\n",
    "            seq_list[i] = data[int(seq[i])-1]\n",
    "        sol.update({seq: count_completion_time(seq_list)})\n",
    "    return sol\n"
   ]
  },
  {
   "cell_type": "code",
   "execution_count": 28,
   "metadata": {},
   "outputs": [],
   "source": [
    "def min_max_normalization(arr):\n",
    "    min_val = np.min(arr) -1 # (np.min(arr)  * 1/100)\n",
    "    max_val = np.max(arr)\n",
    "    return (arr - min_val) / (max_val - min_val)"
   ]
  },
  {
   "cell_type": "code",
   "execution_count": 29,
   "metadata": {},
   "outputs": [],
   "source": [
    "# Z-Score Normalization \n",
    "def zscore_normalization(arr):\n",
    "    mean_val = np.mean(arr)\n",
    "    std_dev = np.std(arr)\n",
    "    return (arr - mean_val) / std_dev\n"
   ]
  },
  {
   "cell_type": "code",
   "execution_count": 30,
   "metadata": {},
   "outputs": [],
   "source": [
    "def find_up_low_bound(arr):\n",
    "    max_val = np.max(arr)\n",
    "    min_val = np.min(arr)\n",
    "    up_bound = math.ceil(max_val)\n",
    "    low_bound = math.floor(min_val)\n",
    "    return low_bound, up_bound"
   ]
  },
  {
   "cell_type": "code",
   "execution_count": 31,
   "metadata": {},
   "outputs": [],
   "source": [
    "def sort_by_index(data):\n",
    "  \"\"\"Sorts a list and returns the corresponding sorted index sequence.\n",
    "\n",
    "  Args:\n",
    "      data: A list of sortable elements.\n",
    "\n",
    "  Returns:\n",
    "      A list of indices representing the sorted order of the original list.\n",
    "  \"\"\"\n",
    "  return sorted(range(len(data)), key=lambda i: data[i])\n"
   ]
  },
  {
   "cell_type": "markdown",
   "metadata": {},
   "source": [
    "### RUN"
   ]
  },
  {
   "cell_type": "code",
   "execution_count": 32,
   "metadata": {},
   "outputs": [],
   "source": [
    "#LOAD DATA\n",
    "data = pd.read_csv(\"data.csv\")\n",
    "data = data.values\n",
    "data = data[:, 1:]\n"
   ]
  },
  {
   "cell_type": "code",
   "execution_count": 33,
   "metadata": {},
   "outputs": [],
   "source": [
    "# INIT THE PARAMETERS\n",
    "population_size = 3\n",
    "iteration_ = 3\n",
    "gamma = 0.01\n",
    "alpha = 0.1\n",
    "beta = 0.2\n",
    "delta = 0.97"
   ]
  },
  {
   "cell_type": "code",
   "execution_count": 34,
   "metadata": {},
   "outputs": [],
   "source": [
    "# Generate Random Solution based on population_size\n",
    "solution_ = generate_random_solution(data=data, amount_of_solution=population_size)"
   ]
  },
  {
   "cell_type": "code",
   "execution_count": 35,
   "metadata": {},
   "outputs": [],
   "source": [
    "solution_keys = list(solution_.keys())\n",
    "solution_list = list(solution_.values())\n",
    "solution_list = np.array(solution_list)"
   ]
  },
  {
   "cell_type": "code",
   "execution_count": 36,
   "metadata": {},
   "outputs": [],
   "source": [
    "normalize_solution = zscore_normalization(solution_list)"
   ]
  },
  {
   "cell_type": "code",
   "execution_count": 37,
   "metadata": {},
   "outputs": [],
   "source": [
    "low_bound, up_bound  = find_up_low_bound(normalize_solution)"
   ]
  },
  {
   "cell_type": "code",
   "execution_count": 38,
   "metadata": {},
   "outputs": [],
   "source": [
    "# CREATE OBJECT AND RUN ALGORITHM\n",
    "from firefly import firefly_algo"
   ]
  },
  {
   "cell_type": "code",
   "execution_count": 39,
   "metadata": {},
   "outputs": [],
   "source": [
    "fa = firefly_algo(data=normalize_solution, population=population_size, max_iter=iteration_, low_bound=low_bound, up_bound=up_bound, gamma=gamma, alpha=alpha, beta=beta, delta=delta)\n",
    "fa.run()"
   ]
  },
  {
   "cell_type": "code",
   "execution_count": 40,
   "metadata": {},
   "outputs": [
    {
     "name": "stdout",
     "output_type": "stream",
     "text": [
      "1.069\n",
      "-4.760\n",
      "0.267\n"
     ]
    }
   ],
   "source": [
    "fa.print_result()"
   ]
  },
  {
   "cell_type": "code",
   "execution_count": 43,
   "metadata": {},
   "outputs": [],
   "source": [
    "sorted_indices = sort_by_index(normalize_solution)"
   ]
  },
  {
   "cell_type": "code",
   "execution_count": 45,
   "metadata": {},
   "outputs": [],
   "source": [
    "res = dict()\n",
    "for i in sorted_indices:\n",
    "    res.update({solution_keys[i]: fa.data[i]})"
   ]
  },
  {
   "cell_type": "code",
   "execution_count": 46,
   "metadata": {},
   "outputs": [
    {
     "data": {
      "text/plain": [
       "{'342156': -4.759963380238933,\n",
       " '546321': 0.2672612419124206,\n",
       " '614325': 1.0690449676496938}"
      ]
     },
     "execution_count": 46,
     "metadata": {},
     "output_type": "execute_result"
    }
   ],
   "source": [
    "res"
   ]
  },
  {
   "cell_type": "code",
   "execution_count": null,
   "metadata": {},
   "outputs": [],
   "source": []
  }
 ],
 "metadata": {
  "kernelspec": {
   "display_name": "Python 3",
   "language": "python",
   "name": "python3"
  },
  "language_info": {
   "codemirror_mode": {
    "name": "ipython",
    "version": 3
   },
   "file_extension": ".py",
   "mimetype": "text/x-python",
   "name": "python",
   "nbconvert_exporter": "python",
   "pygments_lexer": "ipython3",
   "version": "3.9.13"
  }
 },
 "nbformat": 4,
 "nbformat_minor": 2
}
