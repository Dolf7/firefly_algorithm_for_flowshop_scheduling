{
 "cells": [
  {
   "cell_type": "code",
   "execution_count": 1,
   "metadata": {},
   "outputs": [],
   "source": [
    "import pandas as pd\n",
    "import numpy as np\n",
    "import random\n",
    "import math\n",
    "from itertools import permutations"
   ]
  },
  {
   "cell_type": "code",
   "execution_count": 2,
   "metadata": {},
   "outputs": [],
   "source": [
    "# COUNT Completion Time of sequence of order in flowshop schedule\n",
    "def count_completion_time(processing_times):\n",
    "    process_accumlutaion = np.zeros(processing_times.shape)\n",
    "    accumulation_time = 0\n",
    "    for i in range(len(processing_times[0])):\n",
    "        accumulation_time += processing_times[0][i]\n",
    "        process_accumlutaion[0][i] = accumulation_time\n",
    "\n",
    "    for i in range(1, len(processing_times)):\n",
    "        accumulation_time = process_accumlutaion[i-1][0]\n",
    "        for j in range(len(processing_times[i])):\n",
    "            if(j == 0):\n",
    "                accumulation_time += processing_times[i][j]\n",
    "            else:\n",
    "                if(process_accumlutaion[i-1][j] < process_accumlutaion[i][j-1]):\n",
    "                    accumulation_time += processing_times[i][j]\n",
    "                else:\n",
    "                    accumulation_time = process_accumlutaion[i-1][j]\n",
    "                    accumulation_time += processing_times[i][j]\n",
    "            process_accumlutaion[i][j] = accumulation_time\n",
    "    return accumulation_time"
   ]
  },
  {
   "cell_type": "code",
   "execution_count": 3,
   "metadata": {},
   "outputs": [],
   "source": [
    "def generate_random_sequence(n):\n",
    "  \"\"\"Generates a random sequence of numbers from 1 to n.\"\"\"\n",
    "  sequence = random.sample(range(1, n+1), n)  # Sample 6 unique numbers from range 1 to 6\n",
    "  return sequence # return list"
   ]
  },
  {
   "cell_type": "code",
   "execution_count": 4,
   "metadata": {},
   "outputs": [],
   "source": [
    "def sequence_to_string(sequence):\n",
    "  \"\"\"Converts a sequence of numbers to a string.\n",
    "  Args:\n",
    "      sequence: A tuple of integers representing the sequence.\n",
    "\n",
    "  Returns:\n",
    "      A string representation of the sequence.\n",
    "  \"\"\"\n",
    "  return ''.join(map(str, sequence))"
   ]
  },
  {
   "cell_type": "code",
   "execution_count": 5,
   "metadata": {},
   "outputs": [],
   "source": [
    "\n",
    "def generate_all_possibilites(data):\n",
    "    numbers = range(1, 7)  # Create a sequence from 1 to 6\n",
    "\n",
    "    # Use permutations to generate all possible orderings\n",
    "    all_sequences = list(permutations(numbers))\n",
    "\n",
    "    # Convert to List of String\n",
    "    seq = [sequence_to_string(seq) for seq in all_sequences]\n",
    "    \n",
    "    sol = dict()\n",
    "    for x in range(len(seq)):\n",
    "        seq_list = np.zeros(data.shape)\n",
    "        for i in range(len(seq[x])):\n",
    "            seq_list[i] = data[int(seq[x][i])-1]\n",
    "        sol.update({seq[x]: count_completion_time(seq_list)})\n",
    "    return sol\n"
   ]
  },
  {
   "cell_type": "code",
   "execution_count": 6,
   "metadata": {},
   "outputs": [],
   "source": [
    "def generate_random_solution(data, amount_of_solution):\n",
    "    sol = dict()\n",
    "    number_of_job = len(data)-1\n",
    "    print(number_of_job)\n",
    "    while len(sol) < amount_of_solution:  # Loop until desired number of solutions is reached\n",
    "        seq = generate_random_sequence(number_of_job)\n",
    "        seq_str = \"-\".join(map(str, seq))\n",
    "        if seq_str not in sol:  # Check for uniqueness before adding to dictionary\n",
    "            seq_list = np.zeros(data.shape)\n",
    "            for i in range(len(seq)):\n",
    "                seq_list[i] = data[(seq[i])-1]\n",
    "            sol.update({seq_str: count_completion_time(seq_list)})\n",
    "    return sol"
   ]
  },
  {
   "cell_type": "code",
   "execution_count": 7,
   "metadata": {},
   "outputs": [],
   "source": [
    "# def generate_random_solution(data, amount_of_solution):\n",
    "#     sol = dict()\n",
    "#     number_of_job = len(data)-1\n",
    "#     while len(sol) < amount_of_solution:  # Loop until desired number of solutions is reached\n",
    "#         seq = generate_random_sequence(number_of_job)\n",
    "#         print(seq)\n",
    "#         seq_list = np.zeros(data.shape)\n",
    "#         for i in range(len(seq)):\n",
    "#             seq_list[i] = data[int(seq[i])-1]\n",
    "#         sol.update({seq: count_completion_time(seq_list)})\n",
    "#         # if seq not in sol:  # Check for uniqueness before adding to dictionary\n",
    "#     return sol"
   ]
  },
  {
   "cell_type": "code",
   "execution_count": 8,
   "metadata": {},
   "outputs": [],
   "source": [
    "def min_max_normalization(arr):\n",
    "    min_val = np.min(arr) -1 # (np.min(arr)  * 1/100)\n",
    "    max_val = np.max(arr)\n",
    "    return (arr - min_val) / (max_val - min_val)"
   ]
  },
  {
   "cell_type": "code",
   "execution_count": 9,
   "metadata": {},
   "outputs": [],
   "source": [
    "# Z-Score Normalization \n",
    "def zscore_normalization(arr):\n",
    "    mean_val = np.mean(arr)\n",
    "    std_dev = np.std(arr)\n",
    "    return (arr - mean_val) / std_dev\n"
   ]
  },
  {
   "cell_type": "code",
   "execution_count": 10,
   "metadata": {},
   "outputs": [],
   "source": [
    "def find_up_low_bound(arr):\n",
    "    max_val = np.max(arr)\n",
    "    min_val = np.min(arr)\n",
    "    up_bound = math.ceil(max_val)\n",
    "    low_bound = math.floor(min_val)\n",
    "    return low_bound, up_bound"
   ]
  },
  {
   "cell_type": "code",
   "execution_count": 11,
   "metadata": {},
   "outputs": [],
   "source": [
    "def sort_by_index(data):\n",
    "  \"\"\"Sorts a list and returns the corresponding sorted index sequence.\n",
    "\n",
    "  Args:\n",
    "      data: A list of sortable elements.\n",
    "\n",
    "  Returns:\n",
    "      A list of indices representing the sorted order of the original list.\n",
    "  \"\"\"\n",
    "  return sorted(range(len(data)), key=lambda i: data[i])\n"
   ]
  },
  {
   "cell_type": "markdown",
   "metadata": {},
   "source": [
    "### RUN"
   ]
  },
  {
   "cell_type": "code",
   "execution_count": 25,
   "metadata": {},
   "outputs": [],
   "source": [
    "# Read The Data\n",
    "# For data-0\n",
    "# data = pd.read_csv(\"data/data0.csv\")\n",
    "# For data-1\n",
    "# data = pd.read_csv(\"data/data1.csv\")\n",
    "# For data-2\n",
    "# data = pd.read_csv(\"data/data2.csv\")\n",
    "# For data-3\n",
    "data = pd.read_csv(\"data/data3.csv\")"
   ]
  },
  {
   "cell_type": "code",
   "execution_count": 26,
   "metadata": {},
   "outputs": [
    {
     "data": {
      "text/plain": [
       "array([[89.06, 131.84, 419.34, 155.12, 284.79, 76.38],\n",
       "       [150.7, 220.96, 638.86, 262.28, 478.7, 130.84],\n",
       "       [160.56, 244.12, 707.76, 279.16, 532.8, 135.08],\n",
       "       [323.4, 484.52, 1545.0, 562.24, 1056.68, 274.64],\n",
       "       [565.02, 751.9, 2431.32, 975.14, 1679.08, 313.4]], dtype=object)"
      ]
     },
     "execution_count": 26,
     "metadata": {},
     "output_type": "execute_result"
    }
   ],
   "source": [
    "#LOAD DATA\n",
    "\n",
    "data = data.values\n",
    "data = data[:, 1:]\n",
    "data"
   ]
  },
  {
   "cell_type": "code",
   "execution_count": 27,
   "metadata": {},
   "outputs": [],
   "source": [
    "# INIT THE PARAMETERS\n",
    "population_size = 10\n",
    "iteration_ = 100\n",
    "gamma = 0.01\n",
    "alpha = 0.1\n",
    "beta = 0.2\n",
    "delta = 0.97"
   ]
  },
  {
   "cell_type": "code",
   "execution_count": 28,
   "metadata": {},
   "outputs": [],
   "source": [
    "# Generate Random Solution based on population_size\n",
    "solution_ = generate_random_solution(data=data, amount_of_solution=population_size)"
   ]
  },
  {
   "cell_type": "code",
   "execution_count": 96,
   "metadata": {},
   "outputs": [],
   "source": [
    "# RUN THIS FOR ALL POSSIBILITIES\n",
    "# population_size=100\n",
    "# solution_ = generate_all_possibilites(data=data)"
   ]
  },
  {
   "cell_type": "code",
   "execution_count": 29,
   "metadata": {},
   "outputs": [
    {
     "data": {
      "text/plain": [
       "{'4-1-2-3': 5403.21,\n",
       " '1-2-4-3': 5110.900000000001,\n",
       " '3-2-4-1': 5276.39,\n",
       " '3-4-1-2': 5170.6900000000005,\n",
       " '4-1-3-2': 5398.97,\n",
       " '4-3-1-2': 5398.97,\n",
       " '3-1-2-4': 5609.200000000001,\n",
       " '1-3-4-2': 5121.46,\n",
       " '2-1-3-4': 5576.18,\n",
       " '2-3-1-4': 5576.18}"
      ]
     },
     "execution_count": 29,
     "metadata": {},
     "output_type": "execute_result"
    }
   ],
   "source": [
    "solution_"
   ]
  },
  {
   "cell_type": "code",
   "execution_count": 98,
   "metadata": {},
   "outputs": [],
   "source": [
    "solution_keys = list(solution_.keys())\n",
    "solution_list = list(solution_.values())\n",
    "solution_list = np.array(solution_list)"
   ]
  },
  {
   "cell_type": "code",
   "execution_count": 99,
   "metadata": {},
   "outputs": [
    {
     "data": {
      "text/plain": [
       "array([nan, nan, nan, nan, nan, nan, nan, nan, nan, nan])"
      ]
     },
     "execution_count": 99,
     "metadata": {},
     "output_type": "execute_result"
    }
   ],
   "source": [
    "solution_list"
   ]
  },
  {
   "cell_type": "code",
   "execution_count": 100,
   "metadata": {},
   "outputs": [],
   "source": [
    "normalize_solution = zscore_normalization(solution_list)"
   ]
  },
  {
   "cell_type": "code",
   "execution_count": 101,
   "metadata": {},
   "outputs": [
    {
     "data": {
      "text/plain": [
       "array([nan, nan, nan, nan, nan, nan, nan, nan, nan, nan])"
      ]
     },
     "execution_count": 101,
     "metadata": {},
     "output_type": "execute_result"
    }
   ],
   "source": [
    "normalize_solution"
   ]
  },
  {
   "cell_type": "code",
   "execution_count": 102,
   "metadata": {},
   "outputs": [
    {
     "ename": "ValueError",
     "evalue": "cannot convert float NaN to integer",
     "output_type": "error",
     "traceback": [
      "\u001b[1;31m---------------------------------------------------------------------------\u001b[0m",
      "\u001b[1;31mValueError\u001b[0m                                Traceback (most recent call last)",
      "Cell \u001b[1;32mIn[102], line 1\u001b[0m\n\u001b[1;32m----> 1\u001b[0m low_bound, up_bound  \u001b[38;5;241m=\u001b[39m \u001b[43mfind_up_low_bound\u001b[49m\u001b[43m(\u001b[49m\u001b[43mnormalize_solution\u001b[49m\u001b[43m)\u001b[49m\n",
      "Cell \u001b[1;32mIn[30], line 4\u001b[0m, in \u001b[0;36mfind_up_low_bound\u001b[1;34m(arr)\u001b[0m\n\u001b[0;32m      2\u001b[0m max_val \u001b[38;5;241m=\u001b[39m np\u001b[38;5;241m.\u001b[39mmax(arr)\n\u001b[0;32m      3\u001b[0m min_val \u001b[38;5;241m=\u001b[39m np\u001b[38;5;241m.\u001b[39mmin(arr)\n\u001b[1;32m----> 4\u001b[0m up_bound \u001b[38;5;241m=\u001b[39m \u001b[43mmath\u001b[49m\u001b[38;5;241;43m.\u001b[39;49m\u001b[43mceil\u001b[49m\u001b[43m(\u001b[49m\u001b[43mmax_val\u001b[49m\u001b[43m)\u001b[49m\n\u001b[0;32m      5\u001b[0m low_bound \u001b[38;5;241m=\u001b[39m math\u001b[38;5;241m.\u001b[39mfloor(min_val)\n\u001b[0;32m      6\u001b[0m \u001b[38;5;28;01mreturn\u001b[39;00m low_bound, up_bound\n",
      "\u001b[1;31mValueError\u001b[0m: cannot convert float NaN to integer"
     ]
    }
   ],
   "source": [
    "low_bound, up_bound  = find_up_low_bound(normalize_solution)"
   ]
  },
  {
   "cell_type": "code",
   "execution_count": null,
   "metadata": {},
   "outputs": [],
   "source": [
    "# CREATE OBJECT AND RUN ALGORITHM\n",
    "from firefly import firefly_algo"
   ]
  },
  {
   "cell_type": "code",
   "execution_count": null,
   "metadata": {},
   "outputs": [],
   "source": [
    "fa = firefly_algo(data=normalize_solution, population=population_size, max_iter=iteration_, low_bound=low_bound, up_bound=up_bound, gamma=gamma, alpha=alpha, beta=beta, delta=delta)\n",
    "fa.run()"
   ]
  },
  {
   "cell_type": "code",
   "execution_count": null,
   "metadata": {},
   "outputs": [
    {
     "name": "stdout",
     "output_type": "stream",
     "text": [
      "-45.756\n",
      "0.375\n",
      "0.307\n",
      "0.492\n",
      "-79.221\n",
      "0.173\n",
      "-63.274\n",
      "-26.322\n",
      "1.430\n",
      "1.250\n"
     ]
    }
   ],
   "source": [
    "fa.print_result()\n"
   ]
  },
  {
   "cell_type": "code",
   "execution_count": null,
   "metadata": {},
   "outputs": [],
   "source": [
    "sorted_indices = sort_by_index(normalize_solution)"
   ]
  },
  {
   "cell_type": "code",
   "execution_count": null,
   "metadata": {},
   "outputs": [],
   "source": [
    "res = dict()\n",
    "for i in sorted_indices:\n",
    "    solution_key_list = f\"{solution_keys[i]} - {solution_list[i]}\";\n",
    "    res.update({solution_key_list: fa.data[i]})"
   ]
  },
  {
   "cell_type": "code",
   "execution_count": null,
   "metadata": {},
   "outputs": [
    {
     "data": {
      "text/plain": [
       "{'14-13-9-6-7-10-11-16-2-3-12-8-15-5-1-4 - 34858.36': -79.2213731476391,\n",
       " '3-6-2-1-9-11-10-8-13-16-4-5-12-15-7-14 - 38180.119999999995': -63.27405489003178,\n",
       " '12-1-9-16-15-4-5-3-2-6-14-8-10-7-11-13 - 39918.15': -45.756263216870956,\n",
       " '5-15-3-12-7-14-10-1-11-16-2-4-13-6-8-9 - 39349.780000000006': -26.322326304076082,\n",
       " '1-5-16-13-15-6-7-14-11-10-4-3-2-12-9-8 - 41498.44': 0.17345280262783208,\n",
       " '15-9-14-2-3-11-16-7-8-5-10-6-1-4-13-12 - 41886.18': 0.307208934984494,\n",
       " '2-12-14-8-5-15-3-4-7-16-11-13-1-10-6-9 - 42083.18': 0.37516673679566265,\n",
       " '9-10-11-13-16-6-5-15-8-7-14-1-2-12-3-4 - 42422.939999999995': 0.49237152229496367,\n",
       " '11-2-4-16-13-12-1-6-8-14-10-9-7-3-5-15 - 44619.5': 1.2501044621241055,\n",
       " '2-16-6-7-9-4-1-3-5-14-12-13-10-15-11-8 - 45139.600000000006': 1.4295199581748121}"
      ]
     },
     "execution_count": 85,
     "metadata": {},
     "output_type": "execute_result"
    }
   ],
   "source": [
    "res"
   ]
  },
  {
   "cell_type": "code",
   "execution_count": null,
   "metadata": {},
   "outputs": [],
   "source": []
  }
 ],
 "metadata": {
  "kernelspec": {
   "display_name": "Python 3",
   "language": "python",
   "name": "python3"
  },
  "language_info": {
   "codemirror_mode": {
    "name": "ipython",
    "version": 3
   },
   "file_extension": ".py",
   "mimetype": "text/x-python",
   "name": "python",
   "nbconvert_exporter": "python",
   "pygments_lexer": "ipython3",
   "version": "3.9.13"
  }
 },
 "nbformat": 4,
 "nbformat_minor": 2
}
