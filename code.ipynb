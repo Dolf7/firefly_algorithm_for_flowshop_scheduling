{
 "cells": [
  {
   "cell_type": "code",
   "execution_count": 1,
   "metadata": {},
   "outputs": [],
   "source": [
    "import pandas as pd\n",
    "import numpy as np\n",
    "import random\n",
    "import math\n",
    "from itertools import permutations"
   ]
  },
  {
   "cell_type": "code",
   "execution_count": 2,
   "metadata": {},
   "outputs": [],
   "source": [
    "# COUNT Completion Time of sequence of order in flowshop schedule\n",
    "def count_completion_time(processing_times):\n",
    "    process_accumlutaion = np.zeros(processing_times.shape)\n",
    "    accumulation_time = 0\n",
    "    for i in range(len(processing_times[0])):\n",
    "        accumulation_time += processing_times[0][i]\n",
    "        process_accumlutaion[0][i] = accumulation_time\n",
    "\n",
    "    for i in range(1, len(processing_times)):\n",
    "        accumulation_time = process_accumlutaion[i-1][0]\n",
    "        for j in range(len(processing_times[i])):\n",
    "            if(j == 0):\n",
    "                accumulation_time += processing_times[i][j]\n",
    "            else:\n",
    "                if(process_accumlutaion[i-1][j] < process_accumlutaion[i][j-1]):\n",
    "                    accumulation_time += processing_times[i][j]\n",
    "                else:\n",
    "                    accumulation_time = process_accumlutaion[i-1][j]\n",
    "                    accumulation_time += processing_times[i][j]\n",
    "            process_accumlutaion[i][j] = accumulation_time\n",
    "    return accumulation_time"
   ]
  },
  {
   "cell_type": "code",
   "execution_count": 3,
   "metadata": {},
   "outputs": [],
   "source": [
    "def generate_random_sequence(n):\n",
    "  \"\"\"Generates a random sequence of numbers from 1 to n.\"\"\"\n",
    "  sequence = random.sample(range(1, n+1), n)  # Sample 6 unique numbers from range 1 to 6\n",
    "  return sequence # return list"
   ]
  },
  {
   "cell_type": "code",
   "execution_count": 4,
   "metadata": {},
   "outputs": [],
   "source": [
    "def sequence_to_string(sequence):\n",
    "  \"\"\"Converts a sequence of numbers to a string.\n",
    "  Args:\n",
    "      sequence: A tuple of integers representing the sequence.\n",
    "\n",
    "  Returns:\n",
    "      A string representation of the sequence.\n",
    "  \"\"\"\n",
    "  return '-'.join(map(str, sequence))"
   ]
  },
  {
   "cell_type": "code",
   "execution_count": 5,
   "metadata": {},
   "outputs": [],
   "source": [
    "\n",
    "def generate_all_possibilites(data):\n",
    "\n",
    "    numbers_of_job = len(data)\n",
    "    numbers = range(1, numbers_of_job+1)  # Create a sequence from 1 to 6\n",
    "\n",
    "    # Use permutations to generate all possible orderings\n",
    "    seq = list(permutations(numbers))\n",
    "    # Convert to List of String\n",
    "    seq_str = [sequence_to_string(seq) for seq in seq]\n",
    "\n",
    "    sol = dict()\n",
    "    for x in range(len(seq)):\n",
    "        seq_list = np.zeros(data.shape)\n",
    "        for i in range(len(seq[x])):\n",
    "            seq_list[i] = data[(seq[x][i])-1]\n",
    "        sol.update({seq_str[x]: count_completion_time(seq_list)})\n",
    "    return sol"
   ]
  },
  {
   "cell_type": "code",
   "execution_count": 6,
   "metadata": {},
   "outputs": [],
   "source": [
    "def generate_random_solution(data, amount_of_solution):\n",
    "    sol = dict()\n",
    "    number_of_job = len(data)\n",
    "    while len(sol) < amount_of_solution:  # Loop until desired number of solutions is reached\n",
    "        seq = generate_random_sequence(number_of_job)\n",
    "        seq_str = \"-\".join(map(str, seq))\n",
    "        if seq_str not in sol:  # Check for uniqueness before adding to dictionary\n",
    "            seq_list = np.zeros(data.shape)\n",
    "            for i in range(len(seq)):\n",
    "                seq_list[i] = data[(seq[i])-1]\n",
    "            sol.update({seq_str: count_completion_time(seq_list)})\n",
    "    return sol"
   ]
  },
  {
   "cell_type": "code",
   "execution_count": 7,
   "metadata": {},
   "outputs": [],
   "source": [
    "# def generate_random_solution(data, amount_of_solution):\n",
    "#     sol = dict()\n",
    "#     number_of_job = len(data)-1\n",
    "#     while len(sol) < amount_of_solution:  # Loop until desired number of solutions is reached\n",
    "#         seq = generate_random_sequence(number_of_job)\n",
    "#         print(seq)\n",
    "#         seq_list = np.zeros(data.shape)\n",
    "#         for i in range(len(seq)):\n",
    "#             seq_list[i] = data[int(seq[i])-1]\n",
    "#         sol.update({seq: count_completion_time(seq_list)})\n",
    "#         # if seq not in sol:  # Check for uniqueness before adding to dictionary\n",
    "#     return sol"
   ]
  },
  {
   "cell_type": "code",
   "execution_count": 8,
   "metadata": {},
   "outputs": [],
   "source": [
    "def min_max_normalization(arr):\n",
    "    min_val = np.min(arr) -1 # (np.min(arr)  * 1/100)\n",
    "    max_val = np.max(arr)\n",
    "    return (arr - min_val) / (max_val - min_val)"
   ]
  },
  {
   "cell_type": "code",
   "execution_count": 9,
   "metadata": {},
   "outputs": [],
   "source": [
    "# Z-Score Normalization \n",
    "def zscore_normalization(arr):\n",
    "    mean_val = np.mean(arr)\n",
    "    std_dev = np.std(arr)\n",
    "    return (arr - mean_val) / std_dev\n"
   ]
  },
  {
   "cell_type": "code",
   "execution_count": 10,
   "metadata": {},
   "outputs": [],
   "source": [
    "def find_up_low_bound(arr):\n",
    "    max_val = np.max(arr)\n",
    "    min_val = np.min(arr)\n",
    "    up_bound = math.ceil(max_val)\n",
    "    low_bound = math.floor(min_val)\n",
    "    return low_bound, up_bound"
   ]
  },
  {
   "cell_type": "code",
   "execution_count": 11,
   "metadata": {},
   "outputs": [],
   "source": [
    "def sort_by_index(data):\n",
    "  \"\"\"Sorts a list and returns the corresponding sorted index sequence.\n",
    "\n",
    "  Args:\n",
    "      data: A list of sortable elements.\n",
    "\n",
    "  Returns:\n",
    "      A list of indices representing the sorted order of the original list.\n",
    "  \"\"\"\n",
    "  return sorted(range(len(data)), key=lambda i: data[i])\n"
   ]
  },
  {
   "cell_type": "markdown",
   "metadata": {},
   "source": [
    "### RUN"
   ]
  },
  {
   "cell_type": "code",
   "execution_count": 12,
   "metadata": {},
   "outputs": [],
   "source": [
    "# Read The Data\n",
    "# For data-0\n",
    "# data = pd.read_csv(\"data/data0.csv\")\n",
    "# For data-1\n",
    "data = pd.read_csv(\"data/data1.csv\")\n",
    "# For data-2\n",
    "# data = pd.read_csv(\"data/data2.csv\")\n",
    "# For data-3\n",
    "# data = pd.read_csv(\"data/data3.csv\")"
   ]
  },
  {
   "cell_type": "code",
   "execution_count": 13,
   "metadata": {},
   "outputs": [
    {
     "data": {
      "text/plain": [
       "array([[135.62, 121.96, 3510.18, 2360.75, 213.38, 372.92],\n",
       "       [90.45, 81.46, 2282.55, 1573.46, 142.3, 248.5],\n",
       "       [197.82, 149.32, 430.24, 584.11, 3910.7, 237.15],\n",
       "       [90.2, 81.43, 2282.08, 1573.88, 142.55, 248.02],\n",
       "       [241.82, 215.66, 4335.05, 1839.83, 368.22, 378.59],\n",
       "       [456.66, 2930.95, 464.22, 906.2, 119.37, 163.12],\n",
       "       [135.17, 122.61, 3424.42, 2360.26, 213.85, 373.02],\n",
       "       [240.74, 180.6, 4335.04, 1794.38, 1089.0, 387.12],\n",
       "       [196.74, 148.52, 431.21, 561.37, 3809.12, 237.15],\n",
       "       [194.14, 149.44, 427.29, 560.19, 3576.36, 237.15],\n",
       "       [456.78, 2905.23, 463.52, 895.51, 134.61, 163.34],\n",
       "       [195.39, 148.27, 448.22, 693.77, 3553.92, 237.15],\n",
       "       [196.97, 149.88, 428.5, 574.35, 4005.38, 237.15],\n",
       "       [240.94, 180.44, 4347.38, 1880.38, 364.75, 385.94],\n",
       "       [196.8, 148.88, 432.35, 580.22, 3788.21, 237.15],\n",
       "       [241.56, 183.71, 4351.61, 1811.75, 367.49, 362.58],\n",
       "       [455.09, 2911.42, 462.47, 896.55, 215.36, 163.14]], dtype=object)"
      ]
     },
     "execution_count": 13,
     "metadata": {},
     "output_type": "execute_result"
    }
   ],
   "source": [
    "#LOAD DATA\n",
    "\n",
    "data = data.values\n",
    "data = data[:, 1:]\n",
    "data"
   ]
  },
  {
   "cell_type": "code",
   "execution_count": 14,
   "metadata": {},
   "outputs": [],
   "source": [
    "# INIT THE PARAMETERS\n",
    "population_size = 10\n",
    "iteration_ = 100\n",
    "gamma = 0.01\n",
    "alpha = 0.1\n",
    "beta = 0.2\n",
    "delta = 0.97"
   ]
  },
  {
   "cell_type": "code",
   "execution_count": 15,
   "metadata": {},
   "outputs": [],
   "source": [
    "# Generate Random Solution based on population_size\n",
    "solution_ = generate_random_solution(data=data, amount_of_solution=population_size)"
   ]
  },
  {
   "cell_type": "code",
   "execution_count": 16,
   "metadata": {},
   "outputs": [],
   "source": [
    "# # RUN THIS FOR ALL POSSIBILITIES\n",
    "# solution_ = generate_all_possibilites(data=data)"
   ]
  },
  {
   "cell_type": "code",
   "execution_count": 17,
   "metadata": {},
   "outputs": [
    {
     "data": {
      "text/plain": [
       "{'16-13-6-2-17-8-7-1-12-3-14-4-11-5-15-9-10': 45821.64000000001,\n",
       " '8-11-13-1-14-4-3-15-2-9-12-5-10-7-17-6-16': 38393.87,\n",
       " '6-7-13-15-16-14-5-2-4-11-9-3-12-10-8-17-1': 45628.80999999999,\n",
       " '11-10-8-16-6-2-1-12-3-14-7-15-5-9-13-17-4': 43478.090000000004,\n",
       " '5-3-13-16-12-15-6-9-8-14-2-1-17-10-4-7-11': 36404.01,\n",
       " '5-7-3-9-13-16-6-17-1-4-12-2-10-11-15-8-14': 37002.13000000001,\n",
       " '2-3-16-17-11-5-14-7-13-4-1-15-9-10-8-12-6': 45647.76000000001,\n",
       " '15-14-17-5-12-1-10-16-11-4-9-6-7-3-2-8-13': 39899.42,\n",
       " '12-5-17-1-6-10-9-8-2-4-15-11-16-13-7-14-3': 39382.09,\n",
       " '3-16-13-8-2-12-5-9-7-6-17-10-4-14-15-1-11': 36294.159999999996}"
      ]
     },
     "execution_count": 17,
     "metadata": {},
     "output_type": "execute_result"
    }
   ],
   "source": [
    "solution_"
   ]
  },
  {
   "cell_type": "code",
   "execution_count": 18,
   "metadata": {},
   "outputs": [],
   "source": [
    "solution_keys = list(solution_.keys())\n",
    "solution_list = list(solution_.values())\n",
    "solution_list = np.array(solution_list)"
   ]
  },
  {
   "cell_type": "code",
   "execution_count": 19,
   "metadata": {},
   "outputs": [
    {
     "data": {
      "text/plain": [
       "array([45821.64, 38393.87, 45628.81, 43478.09, 36404.01, 37002.13,\n",
       "       45647.76, 39899.42, 39382.09, 36294.16])"
      ]
     },
     "execution_count": 19,
     "metadata": {},
     "output_type": "execute_result"
    }
   ],
   "source": [
    "solution_list"
   ]
  },
  {
   "cell_type": "code",
   "execution_count": 20,
   "metadata": {},
   "outputs": [],
   "source": [
    "normalize_solution = zscore_normalization(solution_list)"
   ]
  },
  {
   "cell_type": "code",
   "execution_count": 21,
   "metadata": {},
   "outputs": [
    {
     "data": {
      "text/plain": [
       "array([ 1.33449444, -0.63754021,  1.28329907,  0.712294  , -1.16583778,\n",
       "       -1.00704   ,  1.2883302 , -0.23782444, -0.37517289, -1.19500239])"
      ]
     },
     "execution_count": 21,
     "metadata": {},
     "output_type": "execute_result"
    }
   ],
   "source": [
    "normalize_solution"
   ]
  },
  {
   "cell_type": "code",
   "execution_count": 22,
   "metadata": {},
   "outputs": [],
   "source": [
    "low_bound, up_bound  = find_up_low_bound(normalize_solution)"
   ]
  },
  {
   "cell_type": "code",
   "execution_count": 23,
   "metadata": {},
   "outputs": [],
   "source": [
    "# CREATE OBJECT AND RUN ALGORITHM\n",
    "from firefly import firefly_algo"
   ]
  },
  {
   "cell_type": "code",
   "execution_count": 24,
   "metadata": {},
   "outputs": [],
   "source": [
    "fa = firefly_algo(data=normalize_solution, population=population_size, max_iter=iteration_, low_bound=low_bound, up_bound=up_bound, gamma=gamma, alpha=alpha, beta=beta, delta=delta)\n",
    "fa.run()"
   ]
  },
  {
   "cell_type": "code",
   "execution_count": 25,
   "metadata": {},
   "outputs": [
    {
     "name": "stdout",
     "output_type": "stream",
     "text": [
      "1.334\n",
      "-45.999\n",
      "1.258\n",
      "0.712\n",
      "-98.873\n",
      "-82.511\n",
      "1.257\n",
      "-0.238\n",
      "-25.547\n",
      "-64.957\n"
     ]
    }
   ],
   "source": [
    "fa.print_result()\n"
   ]
  },
  {
   "cell_type": "code",
   "execution_count": 26,
   "metadata": {},
   "outputs": [],
   "source": [
    "sorted_indices = sort_by_index(normalize_solution)"
   ]
  },
  {
   "cell_type": "code",
   "execution_count": 27,
   "metadata": {},
   "outputs": [],
   "source": [
    "res = dict()\n",
    "for i in sorted_indices:\n",
    "    solution_key_list = f\"{solution_keys[i]} - {solution_list[i]}\";\n",
    "    res.update({solution_key_list: fa.data[i]})"
   ]
  },
  {
   "cell_type": "code",
   "execution_count": 28,
   "metadata": {},
   "outputs": [
    {
     "data": {
      "text/plain": [
       "{'5-3-13-16-12-15-6-9-8-14-2-1-17-10-4-7-11 - 36404.01': -98.87294868050624,\n",
       " '5-7-3-9-13-16-6-17-1-4-12-2-10-11-15-8-14 - 37002.13000000001': -82.51100221473591,\n",
       " '3-16-13-8-2-12-5-9-7-6-17-10-4-14-15-1-11 - 36294.159999999996': -64.95680299182361,\n",
       " '8-11-13-1-14-4-3-15-2-9-12-5-10-7-17-6-16 - 38393.87': -45.999192672028386,\n",
       " '12-5-17-1-6-10-9-8-2-4-15-11-16-13-7-14-3 - 39382.09': -25.54673638958781,\n",
       " '15-14-17-5-12-1-10-16-11-4-9-6-7-3-2-8-13 - 39899.42': -0.23782444121716562,\n",
       " '11-10-8-16-6-2-1-12-3-14-7-15-5-9-13-17-4 - 43478.090000000004': 0.712293995550252,\n",
       " '2-3-16-17-11-5-14-7-13-4-1-15-9-10-8-12-6 - 45647.76000000001': 1.25735929071685,\n",
       " '6-7-13-15-16-14-5-2-4-11-9-3-12-10-8-17-1 - 45628.80999999999': 1.2575919297936344,\n",
       " '16-13-6-2-17-8-7-1-12-3-14-4-11-5-15-9-10 - 45821.64000000001': 1.3344944394264073}"
      ]
     },
     "execution_count": 28,
     "metadata": {},
     "output_type": "execute_result"
    }
   ],
   "source": [
    "res"
   ]
  },
  {
   "cell_type": "code",
   "execution_count": null,
   "metadata": {},
   "outputs": [],
   "source": []
  }
 ],
 "metadata": {
  "kernelspec": {
   "display_name": "Python 3",
   "language": "python",
   "name": "python3"
  },
  "language_info": {
   "codemirror_mode": {
    "name": "ipython",
    "version": 3
   },
   "file_extension": ".py",
   "mimetype": "text/x-python",
   "name": "python",
   "nbconvert_exporter": "python",
   "pygments_lexer": "ipython3",
   "version": "3.9.13"
  }
 },
 "nbformat": 4,
 "nbformat_minor": 2
}
